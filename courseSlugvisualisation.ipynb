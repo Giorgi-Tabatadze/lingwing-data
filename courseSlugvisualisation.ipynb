{
 "cells": [
  {
   "cell_type": "code",
   "execution_count": 1,
   "metadata": {},
   "outputs": [],
   "source": [
    "import pymongo\n",
    "import pandas as pd\n",
    "import os\n",
    "from bson.objectid import ObjectId\n",
    "\n",
    "mongo_connection_string = os.getenv(\"MONGO_CONNECTION_STRING\")\n",
    "\n",
    "mongo_uri = mongo_connection_string\n",
    "database_name = \"lingwing\"\n",
    "collection_name = \"usercourses\"\n"
   ]
  },
  {
   "cell_type": "code",
   "execution_count": 2,
   "metadata": {},
   "outputs": [],
   "source": [
    "client = pymongo.MongoClient(mongo_uri)\n",
    "db = client[database_name]\n",
    "collection = db[collection_name]\n",
    "pipeline = [\n",
    "    {'$addFields': {'percentNumeric': {'$convert': {'input': '$percent', 'to': 'double', 'onError': 0}}}},\n",
    "    {'$match': {'percentNumeric': {'$gte': 60}}},\n",
    "    {'$project': {'_id': 0, 'courseSlug': 1, 'docInfo.user': 1, 'percent': 1}}\n",
    "]\n",
    "\n",
    "course_data = collection.aggregate(pipeline)\n",
    "df = pd.DataFrame(list(course_data))\n",
    "client.close()"
   ]
  },
  {
   "cell_type": "code",
   "execution_count": 3,
   "metadata": {},
   "outputs": [],
   "source": [
    "normalized_docInfo_df = pd.json_normalize(df['docInfo'])"
   ]
  },
  {
   "cell_type": "code",
   "execution_count": 4,
   "metadata": {},
   "outputs": [],
   "source": [
    "df = pd.concat([df, normalized_docInfo_df], axis=1)\n"
   ]
  },
  {
   "cell_type": "code",
   "execution_count": 5,
   "metadata": {},
   "outputs": [],
   "source": [
    "df.drop(columns=[\"docInfo\"], inplace=True)"
   ]
  },
  {
   "cell_type": "code",
   "execution_count": 6,
   "metadata": {},
   "outputs": [],
   "source": [
    "df['percent'] = pd.to_numeric(df['percent'], errors='coerce')\n",
    "\n",
    "df.sort_values(by=['user', 'courseSlug'], inplace=True)\n",
    "df = df[~df['courseSlug'].isin(['english_hotel', 'georgian_alphabet'])]\n"
   ]
  },
  {
   "cell_type": "code",
   "execution_count": 7,
   "metadata": {},
   "outputs": [],
   "source": [
    "df[['language', 'level']] = df['courseSlug'].str.split('_', expand=True)\n",
    "\n",
    "df = df[df['language'].str.isalpha()]"
   ]
  },
  {
   "cell_type": "code",
   "execution_count": 8,
   "metadata": {},
   "outputs": [],
   "source": [
    "\n",
    "language_level_mapping = {}\n",
    "for language in df['language'].unique():\n",
    "    language_courses = df[df['language'] == language]['courseSlug'].unique()\n",
    "    language_level_mapping[language] = {slug: i for i, slug in enumerate(sorted(language_courses))}\n"
   ]
  },
  {
   "cell_type": "code",
   "execution_count": 9,
   "metadata": {},
   "outputs": [],
   "source": [
    "def assign_course_level(row):\n",
    "    language = row['language']\n",
    "    course_slug = row['courseSlug']\n",
    "    return language_level_mapping[language].get(course_slug, -1)  # Returns -1 if course_slug not found\n",
    "\n",
    "df['course_level'] = df.apply(assign_course_level, axis=1)\n",
    "\n",
    "df = df[df['course_level'] != -1]\n"
   ]
  },
  {
   "cell_type": "code",
   "execution_count": 10,
   "metadata": {},
   "outputs": [],
   "source": [
    "starting_levels = df.groupby(['user', 'language'])['course_level'].min().reset_index()\n",
    "starting_level_counts = starting_levels.groupby(['language', 'course_level']).size().reset_index(name='user_count')"
   ]
  },
  {
   "cell_type": "code",
   "execution_count": 11,
   "metadata": {},
   "outputs": [],
   "source": [
    "progression = df.groupby(['user', 'language'])['course_level'].max().reset_index()\n",
    "\n",
    "user_progression = starting_levels.merge(progression, on=['user', 'language'], suffixes=['_start', '_max'])\n",
    "\n",
    "progression_counts = user_progression.groupby(['language', 'course_level_start', 'course_level_max']).size().reset_index(name='user_count')\n"
   ]
  },
  {
   "cell_type": "code",
   "execution_count": 12,
   "metadata": {},
   "outputs": [],
   "source": [
    "plot_data = {language: pd.DataFrame(index=range(len(language_level_mapping[language]))) for language in language_level_mapping.keys()}\n",
    "\n",
    "for (language, start_level, max_level), group in progression_counts.groupby(['language', 'course_level_start', 'course_level_max']):\n",
    "    plot_data[language].loc[max_level, start_level] = group['user_count'].sum()\n"
   ]
  },
  {
   "cell_type": "code",
   "execution_count": 13,
   "metadata": {},
   "outputs": [],
   "source": [
    "reverse_language_level_mapping = {language: {i: slug for slug, i in level_map.items()} \n",
    "                                  for language, level_map in language_level_mapping.items()}"
   ]
  },
  {
   "cell_type": "code",
   "execution_count": 15,
   "metadata": {},
   "outputs": [],
   "source": [
    "import matplotlib.pyplot as plt\n",
    "import os\n",
    "\n",
    "output_dir = './course-progression'\n",
    "os.makedirs(output_dir, exist_ok=True)\n",
    "\n",
    "for language, data in plot_data.items():\n",
    "    plt.figure(figsize=(10, 12))\n",
    "    \n",
    "    ax = plt.gca()\n",
    "    data_filled = data.fillna(0)\n",
    "\n",
    "    bars = data_filled.plot(kind='bar', stacked=True, ax=ax)\n",
    "\n",
    "    for bar in bars.patches:\n",
    "        bar_height = bar.get_height()\n",
    "        if bar_height > 0:  \n",
    "            ax.annotate(f'{int(bar_height)}',\n",
    "                        (bar.get_x() + bar.get_width() / 2, bar.get_y() + bar_height / 2),\n",
    "                        ha='center', va='center',\n",
    "                        color='black', xytext=(0, 0),\n",
    "                        textcoords='offset points')\n",
    "\n",
    "    plt.title(f'User Progression Funnel in {language.title()} Courses')\n",
    "    plt.xlabel('Maximum Course Level Reached')\n",
    "    plt.ylabel('Number of Users')\n",
    "    plt.xticks(ticks=range(len(language_level_mapping[language])), labels=language_level_mapping[language].keys(), rotation=45)\n",
    "\n",
    "    legend_labels = [reverse_language_level_mapping[language].get(level, 'Unknown') for level in range(len(language_level_mapping[language]))]\n",
    "    plt.legend(legend_labels, title='Starting Course', bbox_to_anchor=(1.05, 1), loc='upper left')\n",
    "\n",
    "    plt.grid(axis='y')\n",
    "    plt.tight_layout()\n",
    "\n",
    "    plt.savefig(os.path.join(output_dir, f'{language}_progression.png'), bbox_inches='tight')\n",
    "    plt.close()\n",
    "\n",
    "\n"
   ]
  },
  {
   "cell_type": "markdown",
   "metadata": {},
   "source": [
    "next thing to implement - check each hear by completion of the courses to see progression and how having new course affects users"
   ]
  }
 ],
 "metadata": {
  "kernelspec": {
   "display_name": "env",
   "language": "python",
   "name": "python3"
  },
  "language_info": {
   "codemirror_mode": {
    "name": "ipython",
    "version": 3
   },
   "file_extension": ".py",
   "mimetype": "text/x-python",
   "name": "python",
   "nbconvert_exporter": "python",
   "pygments_lexer": "ipython3",
   "version": "3.11.5"
  }
 },
 "nbformat": 4,
 "nbformat_minor": 2
}
